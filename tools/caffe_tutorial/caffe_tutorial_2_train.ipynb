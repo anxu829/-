{
 "cells": [
  {
   "cell_type": "markdown",
   "metadata": {},
   "source": [
    "# caffe_tutorial_train"
   ]
  },
  {
   "cell_type": "markdown",
   "metadata": {},
   "source": [
    "# just training with solver.solve"
   ]
  },
  {
   "cell_type": "code",
   "execution_count": 2,
   "metadata": {},
   "outputs": [],
   "source": [
    "import caffe\n",
    "#设定文件的保存路径\n",
    "root='C:/Users/an/Documents/study/caffe_tutorial/'                           #根目录\n",
    "train_list=root+'mnist/train/train.txt'     #训练图片列表\n",
    "test_list=root+'mnist/test/test.txt'        #测试图片列表\n",
    "train_proto=root+'mnist/train.prototxt'     #训练配置文件\n",
    "test_proto=root+'mnist/test.prototxt'       #测试配置文件\n",
    "solver_proto=root+'mnist/solver.prototxt'   #参数文件\n",
    "\n",
    "def training(solver_proto):\n",
    "    caffe.set_device(0)\n",
    "    caffe.set_mode_gpu()\n",
    "    solver = caffe.SGDSolver(solver_proto)\n",
    "    solver.solve()\n",
    "    \n",
    "# if __name__ == '__main__':\n",
    "#     training(solver_proto)"
   ]
  },
  {
   "cell_type": "markdown",
   "metadata": {},
   "source": [
    "# training step by step "
   ]
  },
  {
   "cell_type": "markdown",
   "metadata": {},
   "source": [
    "### 首先，构建solver"
   ]
  },
  {
   "cell_type": "code",
   "execution_count": null,
   "metadata": {},
   "outputs": [],
   "source": [
    "import caffe   \n",
    "caffe.set_device(0)  \n",
    "caffe.set_mode_gpu()\n",
    "solver = caffe.SGDSolver(solver_proto)\n",
    "# solver = caffe.get_solver(solver_proto)"
   ]
  },
  {
   "cell_type": "markdown",
   "metadata": {},
   "source": [
    "### 设置相关参数"
   ]
  },
  {
   "cell_type": "code",
   "execution_count": 16,
   "metadata": {},
   "outputs": [],
   "source": [
    "\n",
    "# 等价于solver文件中的max_iter，即最大解算次数  \n",
    "niter = 9380  \n",
    "# 每隔100次收集一次数据  \n",
    "display= 100  \n",
    "\n",
    "\n",
    "# 每次测试进行100次解算，10000/100  \n",
    "test_iter = 100  \n",
    "# 每500次训练进行一次测试（100次解算），60000/64  \n",
    "test_interval =938  "
   ]
  },
  {
   "cell_type": "markdown",
   "metadata": {},
   "source": [
    "### 初始化"
   ]
  },
  {
   "cell_type": "code",
   "execution_count": 17,
   "metadata": {},
   "outputs": [],
   "source": [
    "from numpy import zeros,ceil\n",
    "#初始化 \n",
    "train_loss = zeros(int(ceil(niter * 1.0 / display)))\n",
    "test_loss = zeros(int(ceil(niter * 1.0 / test_interval))  )\n",
    "test_acc = zeros(int(ceil(niter * 1.0 / test_interval)) )\n",
    "  "
   ]
  },
  {
   "cell_type": "markdown",
   "metadata": {},
   "source": [
    "### 逐步优化方法"
   ]
  },
  {
   "cell_type": "code",
   "execution_count": 18,
   "metadata": {},
   "outputs": [],
   "source": [
    "solver.step(1) "
   ]
  },
  {
   "cell_type": "code",
   "execution_count": 19,
   "metadata": {},
   "outputs": [],
   "source": [
    "for it in range(niter):  \n",
    "    # 进行一次解算  \n",
    "    solver.step(1)  \n"
   ]
  },
  {
   "cell_type": "markdown",
   "metadata": {},
   "source": [
    "### solver 可以输出model"
   ]
  },
  {
   "cell_type": "code",
   "execution_count": 20,
   "metadata": {},
   "outputs": [],
   "source": [
    "solver.snapshot()"
   ]
  },
  {
   "cell_type": "code",
   "execution_count": null,
   "metadata": {},
   "outputs": [],
   "source": []
  },
  {
   "cell_type": "markdown",
   "metadata": {},
   "source": [
    "# 附一个好的过程"
   ]
  },
  {
   "cell_type": "markdown",
   "metadata": {},
   "source": [
    "```\n",
    "import matplotlib.pyplot as plt  \n",
    "import caffe   \n",
    "caffe.set_device(0)  \n",
    "caffe.set_mode_gpu()   \n",
    "# 使用SGDSolver，即随机梯度下降算法  \n",
    "solver = caffe.SGDSolver('/home/xxx/mnist/solver.prototxt')  \n",
    "  \n",
    "# 等价于solver文件中的max_iter，即最大解算次数  \n",
    "niter = 9380  \n",
    "# 每隔100次收集一次数据  \n",
    "display= 100  \n",
    "  \n",
    "# 每次测试进行100次解算，10000/100  \n",
    "test_iter = 100  \n",
    "# 每500次训练进行一次测试（100次解算），60000/64  \n",
    "test_interval =938  \n",
    "  \n",
    "#初始化 \n",
    "train_loss = zeros(ceil(niter * 1.0 / display))   \n",
    "test_loss = zeros(ceil(niter * 1.0 / test_interval))  \n",
    "test_acc = zeros(ceil(niter * 1.0 / test_interval))  \n",
    "  \n",
    "# iteration 0，不计入  \n",
    "solver.step(1)  \n",
    "  \n",
    "# 辅助变量  \n",
    "_train_loss = 0; _test_loss = 0; _accuracy = 0  \n",
    "# 进行解算  \n",
    "for it in range(niter):  \n",
    "    # 进行一次解算  \n",
    "    solver.step(1)  \n",
    "    # 每迭代一次，训练batch_size张图片  \n",
    "    _train_loss += solver.net.blobs['SoftmaxWithLoss1'].data  \n",
    "    if it % display == 0:  \n",
    "        # 计算平均train loss  \n",
    "        train_loss[it // display] = _train_loss / display  \n",
    "        _train_loss = 0  \n",
    "  \n",
    "    if it % test_interval == 0:  \n",
    "        for test_it in range(test_iter):  \n",
    "            # 进行一次测试  \n",
    "            solver.test_nets[0].forward()  \n",
    "            # 计算test loss  \n",
    "            _test_loss += solver.test_nets[0].blobs['SoftmaxWithLoss1'].data  \n",
    "            # 计算test accuracy  \n",
    "            _accuracy += solver.test_nets[0].blobs['Accuracy1'].data  \n",
    "        # 计算平均test loss  \n",
    "        test_loss[it / test_interval] = _test_loss / test_iter  \n",
    "        # 计算平均test accuracy  \n",
    "        test_acc[it / test_interval] = _accuracy / test_iter  \n",
    "        _test_loss = 0  \n",
    "        _accuracy = 0  \n",
    "        \n",
    "# 绘制train loss、test loss和accuracy曲线  \n",
    "print '\\nplot the train loss and test accuracy\\n'  \n",
    "_, ax1 = plt.subplots()  \n",
    "ax2 = ax1.twinx()  \n",
    "  \n",
    "# train loss -> 绿色  \n",
    "ax1.plot(display * arange(len(train_loss)), train_loss, 'g')  \n",
    "# test loss -> 黄色  \n",
    "ax1.plot(test_interval * arange(len(test_loss)), test_loss, 'y')  \n",
    "# test accuracy -> 红色  \n",
    "ax2.plot(test_interval * arange(len(test_acc)), test_acc, 'r')  \n",
    "  \n",
    "ax1.set_xlabel('iteration')  \n",
    "ax1.set_ylabel('loss')  \n",
    "ax2.set_ylabel('accuracy')  \n",
    "plt.show()  \n",
    "```"
   ]
  },
  {
   "cell_type": "code",
   "execution_count": null,
   "metadata": {},
   "outputs": [],
   "source": []
  }
 ],
 "metadata": {
  "kernelspec": {
   "display_name": "Python 2",
   "language": "python",
   "name": "python2"
  },
  "language_info": {
   "codemirror_mode": {
    "name": "ipython",
    "version": 2
   },
   "file_extension": ".py",
   "mimetype": "text/x-python",
   "name": "python",
   "nbconvert_exporter": "python",
   "pygments_lexer": "ipython2",
   "version": "2.7.15"
  }
 },
 "nbformat": 4,
 "nbformat_minor": 2
}
