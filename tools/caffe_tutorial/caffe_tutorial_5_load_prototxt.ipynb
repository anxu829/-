{
 "cells": [
  {
   "cell_type": "code",
   "execution_count": 7,
   "metadata": {},
   "outputs": [],
   "source": [
    "# you can not creating model without solver"
   ]
  },
  {
   "cell_type": "code",
   "execution_count": 2,
   "metadata": {},
   "outputs": [],
   "source": [
    "# 建立一个最基本的prototxt 来查看网络结构"
   ]
  },
  {
   "cell_type": "code",
   "execution_count": 1,
   "metadata": {},
   "outputs": [],
   "source": [
    "import caffe\n",
    "from caffe import layers as L,params as P,proto,to_proto\n",
    "root='C:/Users/an/Documents/study/caffe_tutorial/caffe_tutorial/'                           #根目录\n",
    "train_net =root +  'loadPrototxt/train.prototxt'\n",
    "\n",
    "\n",
    "solver_file = root + 'loadPrototxt/solver.prototxt'\n",
    "s=proto.caffe_pb2.SolverParameter()\n",
    "s.train_net = train_net\n",
    "\n",
    "with open(solver_file, 'w') as f:\n",
    "    f.write(str(s))\n",
    "\n",
    "solver = caffe.get_solver(solver_file)"
   ]
  },
  {
   "cell_type": "markdown",
   "metadata": {},
   "source": [
    "## 几点注意：\n",
    "### caffe.get_solver 参数必须是 一个文件目录，不能直接给字符串\n",
    "### caffe.get_solver 会生成一个solver，这个过程中会去检查train.prototxt，所以prototxt一定要写对\n",
    "### 我的train.txt 用的是 \"mnist/train/5/00000.png 5\" 相对路径，所以train.prototxt一定要有 root_folder选项\n",
    "```\n",
    "root_folder: \"C:/Users/an/Documents/study/caffe_tutorial/caffe_tutorial/\"\n",
    "```\n",
    "### 预训练网络对于图片大小有要求\n",
    "```\n",
    "加入参数\n",
    "new_height: 256\n",
    "new_width: 256\n",
    "```\n",
    "### 完整代码修改如下"
   ]
  },
  {
   "cell_type": "markdown",
   "metadata": {},
   "source": [
    "```\n",
    "layer {\n",
    "  name: \"data\"\n",
    "  type: \"ImageData\"\n",
    "  top: \"data\"\n",
    "  top: \"label\"\n",
    "  include {\n",
    "    phase: TRAIN\n",
    "  }\n",
    "  transform_param {\n",
    "    mirror: true\n",
    "    crop_size: 225\n",
    "    mean_value: 103.94\n",
    "    mean_value: 116.78\n",
    "    mean_value: 123.68\n",
    "    scale: 0.017\n",
    "  }\n",
    "  image_data_param {\n",
    "    source: \"C:/Users/an/Documents/study/caffe_tutorial/caffe_tutorial/mnist/train/train4.txt\"\n",
    "    root_folder: \"C:/Users/an/Documents/study/caffe_tutorial/caffe_tutorial/\"\n",
    "    new_height: 255\n",
    "    new_width: 255\n",
    "    batch_size: 10\n",
    "    rand_skip: 100\n",
    "    shuffle: true\n",
    "  }\n",
    "}\n",
    "```"
   ]
  },
  {
   "cell_type": "markdown",
   "metadata": {},
   "source": [
    "# 查看网络最后几层的参数"
   ]
  },
  {
   "cell_type": "code",
   "execution_count": 7,
   "metadata": {},
   "outputs": [
    {
     "data": {
      "text/plain": [
       "['conv5_3/x3/bn', 'conv5_3/x3/scale', 'fc5_3/sqz', 'fc5_3/exc', 'myfc6-bk']"
      ]
     },
     "execution_count": 7,
     "metadata": {},
     "output_type": "execute_result"
    }
   ],
   "source": [
    "list(solver.net.params)[-5:]"
   ]
  },
  {
   "cell_type": "markdown",
   "metadata": {},
   "source": [
    "# 查看网络最后几层的数据"
   ]
  },
  {
   "cell_type": "code",
   "execution_count": 10,
   "metadata": {},
   "outputs": [
    {
     "data": {
      "text/plain": [
       "['pool5_3/gap',\n",
       " 'fc5_3/sqz',\n",
       " 'fc5_3/exc',\n",
       " 'scale5_3',\n",
       " 'block_5_3',\n",
       " 'pool5',\n",
       " 'myfc6-bk',\n",
       " 'loss']"
      ]
     },
     "execution_count": 10,
     "metadata": {},
     "output_type": "execute_result"
    }
   ],
   "source": [
    "list(solver.net.blobs)[-8:]"
   ]
  },
  {
   "cell_type": "code",
   "execution_count": 18,
   "metadata": {},
   "outputs": [
    {
     "name": "stdout",
     "output_type": "stream",
     "text": [
      "('pool5_3/gap', (10L, 2048L, 1L, 1L))\n",
      "('fc5_3/sqz', (10L, 128L))\n",
      "('fc5_3/exc', (10L, 2048L))\n",
      "('scale5_3', (10L, 2048L, 7L, 7L))\n",
      "('block_5_3', (10L, 2048L, 7L, 7L))\n",
      "('pool5', (10L, 2048L, 1L, 1L))\n",
      "('myfc6-bk', (10L, 2L, 1L, 1L))\n",
      "('loss', ())\n"
     ]
    }
   ],
   "source": [
    "for blob in list(solver.net.blobs)[-8:]:\n",
    "    print(blob, solver.net.blobs[blob].data.shape)"
   ]
  },
  {
   "cell_type": "code",
   "execution_count": null,
   "metadata": {},
   "outputs": [],
   "source": []
  }
 ],
 "metadata": {
  "kernelspec": {
   "display_name": "Python 2",
   "language": "python",
   "name": "python2"
  },
  "language_info": {
   "codemirror_mode": {
    "name": "ipython",
    "version": 2
   },
   "file_extension": ".py",
   "mimetype": "text/x-python",
   "name": "python",
   "nbconvert_exporter": "python",
   "pygments_lexer": "ipython2",
   "version": "2.7.15"
  }
 },
 "nbformat": 4,
 "nbformat_minor": 2
}
