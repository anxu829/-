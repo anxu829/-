{
 "cells": [
  {
   "cell_type": "markdown",
   "metadata": {},
   "source": [
    "# 首先要把数据搬到对应的文件夹中"
   ]
  },
  {
   "cell_type": "code",
   "execution_count": 13,
   "metadata": {},
   "outputs": [
    {
     "name": "stdout",
     "output_type": "stream",
     "text": [
      "exitsts ！，clean start ...\n"
     ]
    }
   ],
   "source": [
    "import zipfile , os , shutil\n",
    "if os.path.exists('./VOC2018/'):\n",
    "    print('exitsts ！，clean start ...')\n",
    "    shutil.rmtree('./VOC2018/')\n",
    "with zipfile.ZipFile('./VOC2018.zip') as zf:\n",
    "    zf.extractall('.')"
   ]
  },
  {
   "cell_type": "code",
   "execution_count": 14,
   "metadata": {},
   "outputs": [],
   "source": [
    "for  file in os.listdir('./img/'):\n",
    "    shutil.copy(os.path.join('./img/',file),os.path.join('./VOC2018/JPEGImages/',file))\n",
    "for  file in os.listdir('./xml//'):\n",
    "    shutil.copy(os.path.join('./xml/',file),os.path.join('./VOC2018/Annotations//',file))"
   ]
  },
  {
   "cell_type": "code",
   "execution_count": null,
   "metadata": {},
   "outputs": [],
   "source": []
  },
  {
   "cell_type": "code",
   "execution_count": 5,
   "metadata": {},
   "outputs": [],
   "source": [
    "# 创建main文件"
   ]
  },
  {
   "cell_type": "code",
   "execution_count": 26,
   "metadata": {},
   "outputs": [],
   "source": [
    "# 首先要做train test split\n",
    "import random\n",
    "\n",
    "imglist = set([ i.split('.')[0] for i in os.listdir('./img/')])\n",
    "xmllist = set([i .split('.')[0] for i in os.listdir('./xml/')])\n",
    "# 取交集\n",
    "uselist = list( imglist & xmllist )\n",
    "random.shuffle(uselist)\n",
    "\n",
    "train_rate = 0.9\n",
    "trainset = uselist[:int(len(uselist)*train_rate)]\n",
    "testset  = uselist[int(len(uselist)*train_rate):]"
   ]
  },
  {
   "cell_type": "code",
   "execution_count": 31,
   "metadata": {},
   "outputs": [],
   "source": [
    "with open('./VOC2018/ImageSets/Main/train.txt','w') as f  :\n",
    "    for im in trainset:\n",
    "        f.write(im + '\\n')\n",
    "        \n",
    "with open('./VOC2018/ImageSets/Main/test.txt','w') as f  :\n",
    "    for im in testset:\n",
    "        f.write(im + '\\n')\n",
    "        "
   ]
  },
  {
   "cell_type": "code",
   "execution_count": null,
   "metadata": {},
   "outputs": [],
   "source": []
  }
 ],
 "metadata": {
  "kernelspec": {
   "display_name": "Python 2",
   "language": "python",
   "name": "python2"
  },
  "language_info": {
   "codemirror_mode": {
    "name": "ipython",
    "version": 2
   },
   "file_extension": ".py",
   "mimetype": "text/x-python",
   "name": "python",
   "nbconvert_exporter": "python",
   "pygments_lexer": "ipython2",
   "version": "2.7.15"
  }
 },
 "nbformat": 4,
 "nbformat_minor": 2
}
