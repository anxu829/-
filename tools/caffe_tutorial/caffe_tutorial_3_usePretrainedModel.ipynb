{
 "cells": [
  {
   "cell_type": "code",
   "execution_count": 1,
   "metadata": {},
   "outputs": [],
   "source": [
    "#coding=utf-8\n",
    "#加载必要的库\n",
    "import numpy as np\n",
    "\n",
    "import sys,os\n",
    "\n",
    "import caffe\n"
   ]
  },
  {
   "cell_type": "code",
   "execution_count": 2,
   "metadata": {},
   "outputs": [],
   "source": [
    "\n",
    "net_file= './pretrainedModel/model/deploy.prototxt'\n",
    "caffe_model= './pretrainedModel/model/bvlc_reference_caffenet.caffemodel'\n",
    "mean_file= './pretrainedModel/model/ilsvrc_2012_mean.npy'\n",
    "\n",
    "\n",
    "net = caffe.Net(net_file,caffe_model,caffe.TEST)\n"
   ]
  },
  {
   "cell_type": "code",
   "execution_count": 3,
   "metadata": {},
   "outputs": [
    {
     "data": {
      "text/plain": [
       "(10L, 3L, 227L, 227L)"
      ]
     },
     "execution_count": 3,
     "metadata": {},
     "output_type": "execute_result"
    }
   ],
   "source": [
    "net.blobs['data'].data.shape"
   ]
  },
  {
   "cell_type": "code",
   "execution_count": 4,
   "metadata": {},
   "outputs": [],
   "source": [
    "transformer = caffe.io.Transformer({'data': net.blobs['data'].data.shape})\n",
    "transformer.set_transpose('data', (2,0,1))\n",
    "transformer.set_mean('data', np.load(mean_file).mean(1).mean(1))\n",
    "transformer.set_raw_scale('data', 255) \n",
    "transformer.set_channel_swap('data', (2,1,0))\n"
   ]
  },
  {
   "cell_type": "code",
   "execution_count": 5,
   "metadata": {},
   "outputs": [
    {
     "data": {
      "text/plain": [
       "(10L, 3L, 227L, 227L)"
      ]
     },
     "execution_count": 5,
     "metadata": {},
     "output_type": "execute_result"
    }
   ],
   "source": [
    "net.blobs['data'].data.shape"
   ]
  },
  {
   "cell_type": "code",
   "execution_count": 45,
   "metadata": {},
   "outputs": [],
   "source": [
    "import PIL\n",
    "# PIL.ImageFile.LOAD_TRUNCATED_IMAGES = True\n",
    "im=caffe.io.load_image('./pretrainedModel/data/helmet.jpg')\n",
    "\n",
    "net.blobs['data'].data[...] = transformer.preprocess('data',im)\n",
    "out = net.forward()"
   ]
  },
  {
   "cell_type": "code",
   "execution_count": 46,
   "metadata": {},
   "outputs": [
    {
     "name": "stdout",
     "output_type": "stream",
     "text": [
      "680 n03825788 nipple\n",
      "710 n03908714 pencil sharpener\n",
      "902 n04579432 whistle\n",
      "942 n07717556 butternut squash\n",
      "940 n07716906 spaghetti squash\n"
     ]
    }
   ],
   "source": [
    "\n",
    "imagenet_labels_filename = './pretrainedModel/model/synset_words.txt'\n",
    "labels = np.loadtxt(imagenet_labels_filename, str, delimiter='\\t')\n",
    "\n",
    "\n",
    "top_k = net‘.blobs['prob'].data[0].flatten().argsort()[-1:-6:-1]\n",
    "for i in np.arange(top_k.size):\n",
    "    print top_k[i], labels[top_k[i]]\n",
    "    \n",
    "    "
   ]
  },
  {
   "cell_type": "code",
   "execution_count": null,
   "metadata": {},
   "outputs": [],
   "source": []
  }
 ],
 "metadata": {
  "kernelspec": {
   "display_name": "Python 2",
   "language": "python",
   "name": "python2"
  },
  "language_info": {
   "codemirror_mode": {
    "name": "ipython",
    "version": 2
   },
   "file_extension": ".py",
   "mimetype": "text/x-python",
   "name": "python",
   "nbconvert_exporter": "python",
   "pygments_lexer": "ipython2",
   "version": "2.7.15"
  }
 },
 "nbformat": 4,
 "nbformat_minor": 2
}
