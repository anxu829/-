{
 "cells": [
  {
   "cell_type": "markdown",
   "metadata": {},
   "source": [
    "# step1 download your ResNet caffemodel"
   ]
  },
  {
   "cell_type": "markdown",
   "metadata": {},
   "source": [
    "# step2 download its deploy.prototxt"
   ]
  },
  {
   "cell_type": "markdown",
   "metadata": {},
   "source": [
    "# step3 preparing data "
   ]
  },
  {
   "cell_type": "markdown",
   "metadata": {},
   "source": [
    "### now my data structure is here\n",
    "\n",
    "#### it is a binary classifycation problem , so i put all my data in two folder"
   ]
  },
  {
   "cell_type": "code",
   "execution_count": 1,
   "metadata": {},
   "outputs": [
    {
     "data": {
      "text/plain": [
       "['iron_neg', 'iron_pos']"
      ]
     },
     "execution_count": 1,
     "metadata": {},
     "output_type": "execute_result"
    }
   ],
   "source": [
    "import os\n",
    "os.chdir(r\"/xuan/counter\")\n",
    "os.listdir(\"./data\")"
   ]
  },
  {
   "cell_type": "markdown",
   "metadata": {},
   "source": [
    "#### first of all , split your data into trainset and testset\n",
    "\n",
    "- trainset\n",
    "    - iron_neg\n",
    "    - iron_pos\n",
    "- testset\n",
    "    - iron_neg\n",
    "    - iron_pos"
   ]
  },
  {
   "cell_type": "code",
   "execution_count": 4,
   "metadata": {},
   "outputs": [],
   "source": [
    "import glob,shutil,os,sys\n",
    "import random\n",
    "if os.path.exists(\"./data/testset\"):\n",
    "    shutil.rmtree(\"./data/testset\")\n",
    "os.mkdir(\"./data/testset\")\n",
    "if os.path.exists(\"./data/trainset\"):\n",
    "    shutil.rmtree(\"./data/trainset\")\n",
    "os.mkdir(\"./data/trainset\")\n",
    "\n",
    "testSetNum = 100\n",
    "\n",
    "folderList = glob.glob(\"./data/iron*/\")\n",
    "folderList\n",
    "for folder in folderList:\n",
    "    classes = folder.split(\"/\")[2]\n",
    "    if os.path.exists(\"./data/testset/\"+classes):\n",
    "        shutil.rmtree(\"./data/testset/\"+classes)\n",
    "    os.mkdir(\"./data/testset/\"+classes)\n",
    "    \n",
    "    if os.path.exists(\"./data/trainset/\"+classes):\n",
    "        shutil.rmtree(\"./data/trainset/\"+classes)\n",
    "    os.mkdir(\"./data/trainset/\"+classes)\n",
    "    \n",
    "    imgList = os.listdir(folder)\n",
    "    random.shuffle(imgList)\n",
    "    \n",
    "    train = imgList[:-testSetNum]\n",
    "    test  = imgList[-testSetNum:]\n",
    "    \n",
    "\n",
    "    for file in train:\n",
    "        shutil.copy(folder +  file , './data/trainset/' + classes + '/'+file  )\n",
    "\n",
    "    for file in test:\n",
    "        shutil.copy(folder +  file , './data/testset/' + classes + '/'+file  )\n",
    "\n",
    "    \n",
    "    "
   ]
  },
  {
   "cell_type": "code",
   "execution_count": 5,
   "metadata": {},
   "outputs": [],
   "source": [
    "classDict = [i for i in folderList] "
   ]
  },
  {
   "cell_type": "code",
   "execution_count": 7,
   "metadata": {},
   "outputs": [
    {
     "data": {
      "text/plain": [
       "{'iron_neg': 0, 'iron_pos': 1}"
      ]
     },
     "execution_count": 7,
     "metadata": {},
     "output_type": "execute_result"
    }
   ],
   "source": [
    "classDict = {i.split('/')[2]:idx for idx,i in enumerate(folderList)}\n",
    "classDict"
   ]
  },
  {
   "cell_type": "markdown",
   "metadata": {},
   "source": [
    "#### arrange to data to use caffe ImageData layer\n",
    "\n",
    "- generate a train.txt which contains the image info and class info\n",
    "```\n",
    "    mnist/train/5/00000.png 5\n",
    "    mnist/train/0/00001.png 0\n",
    "    mnist/train/4/00002.png 4\n",
    "    mnist/train/1/00003.png 1\n",
    "    mnist/train/9/00004.png 9\n",
    "    mnist/train/2/00005.png 2\n",
    "    mnist/train/1/00006.png 1\n",
    "```"
   ]
  },
  {
   "cell_type": "code",
   "execution_count": 18,
   "metadata": {},
   "outputs": [],
   "source": [
    "import glob\n",
    "import pandas as pd\n",
    "trainfile = [ (data[2:], classDict[data.split('/')[3]]  ) for data in glob.iglob('./data/trainset/**/*')]\n",
    "trainfile = pd.DataFrame(trainfile)\n",
    "trainfile.to_csv(\"./data/train.txt\",  sep = ' ',header = None , index =False)\n",
    "\n",
    "\n",
    "testfile = [ (data[2:], classDict[data.split('/')[3]]  ) for data in glob.iglob('./data/testset/**/*')]\n",
    "testfile = pd.DataFrame(testfile)\n",
    "testfile.to_csv(\"./data/test.txt\",  sep = ' ',header = None , index =False)"
   ]
  },
  {
   "cell_type": "markdown",
   "metadata": {},
   "source": [
    "#### check the caffemodel place\n"
   ]
  },
  {
   "cell_type": "code",
   "execution_count": 20,
   "metadata": {},
   "outputs": [],
   "source": [
    "caffemodel  = './model/ResNet-50-model.caffemodel'\n",
    "deployProto = './model/deploy.prototxt' \n",
    "\n"
   ]
  },
  {
   "cell_type": "markdown",
   "metadata": {},
   "source": [
    "### build a caffe model to first check caffe network"
   ]
  },
  {
   "cell_type": "code",
   "execution_count": 22,
   "metadata": {},
   "outputs": [],
   "source": [
    "import caffe\n",
    "net = caffe.Net(deployProto,caffemodel,caffe.TEST)"
   ]
  },
  {
   "cell_type": "code",
   "execution_count": 9,
   "metadata": {},
   "outputs": [],
   "source": [
    "import cPickle as pickle"
   ]
  },
  {
   "cell_type": "code",
   "execution_count": 37,
   "metadata": {},
   "outputs": [
    {
     "data": {
      "text/plain": [
       "[u'res2_0_branch2a_bn_s',\n",
       " u'res2_1_branch2a_bn_s',\n",
       " u'res2_2_branch2a_w',\n",
       " u'res2_1_branch2c_b',\n",
       " u'res2_0_branch2a_bn_b',\n",
       " u'res2_1_branch2a_bn_b',\n",
       " u'res2_1_branch2c_w',\n",
       " u'res2_2_branch2a_b',\n",
       " u'res2_1_branch2c_bn_b',\n",
       " u'res2_0_branch2b_bn_b',\n",
       " u'res2_0_branch2c_bn_s',\n",
       " u'res2_1_branch2c_bn_s',\n",
       " u'res2_0_branch2c_bn_b',\n",
       " u'res2_0_branch2a_w',\n",
       " u'res2_0_branch1_b',\n",
       " u'res2_2_branch2a_bn_b',\n",
       " u'res2_1_branch2b_b',\n",
       " u'res2_0_branch1_w',\n",
       " u'res2_2_branch2a_bn_s',\n",
       " u'res2_0_branch2c_w']"
      ]
     },
     "execution_count": 37,
     "metadata": {},
     "output_type": "execute_result"
    }
   ],
   "source": [
    "data = pickle.load(open('./model/R-50.pkl','rb'))\n",
    "[i for i in data.keys() if i.split('_')[0] == 'res2'][:20]"
   ]
  },
  {
   "cell_type": "code",
   "execution_count": 39,
   "metadata": {},
   "outputs": [
    {
     "data": {
      "text/plain": [
       "['res2a_branch1',\n",
       " 'res2a_branch2a',\n",
       " 'res2a_branch2b',\n",
       " 'res2a_branch2c',\n",
       " 'res2a',\n",
       " 'res2a_res2a_relu_0_split_0',\n",
       " 'res2a_res2a_relu_0_split_1',\n",
       " 'res2b_branch2a',\n",
       " 'res2b_branch2b',\n",
       " 'res2b_branch2c',\n",
       " 'res2b',\n",
       " 'res2b_res2b_relu_0_split_0',\n",
       " 'res2b_res2b_relu_0_split_1',\n",
       " 'res2c_branch2a',\n",
       " 'res2c_branch2b',\n",
       " 'res2c_branch2c',\n",
       " 'res2c',\n",
       " 'res2c_res2c_relu_0_split_0',\n",
       " 'res2c_res2c_relu_0_split_1']"
      ]
     },
     "execution_count": 39,
     "metadata": {},
     "output_type": "execute_result"
    }
   ],
   "source": [
    "[i for i in net.blobs.keys() if i[:4] == 'res2']"
   ]
  },
  {
   "cell_type": "markdown",
   "metadata": {},
   "source": [
    "### setup your train.prototxt"
   ]
  },
  {
   "cell_type": "markdown",
   "metadata": {},
   "source": [
    "### 需要进行这样的修改\n",
    "\n",
    "- 把 数据输入层修改为\n",
    "\n",
    "```\n",
    "name: \"ResNet-50\"\n",
    "layer {\n",
    "  name: \"data\"\n",
    "  type: \"ImageData\"\n",
    "  top: \"data\"\n",
    "  top: \"label\"\n",
    "  include {\n",
    "    phase: TRAIN\n",
    "  }\n",
    "  transform_param {\n",
    "    mirror: true\n",
    "    crop_size: 224\n",
    "    mean_value: 103.94\n",
    "    mean_value: 116.78\n",
    "    mean_value: 123.68\n",
    "    scale: 0.017\n",
    "  }\n",
    "  image_data_param {\n",
    "    source: \"C:/Users/an/Documents/study/counter/data/train.txt\"\n",
    "    root_folder: \"C:/Users/an/Documents/study/counter/\"\n",
    "    new_height: 224\n",
    "    new_width: 224\n",
    "    batch_size: 10\n",
    "    rand_skip: 100\n",
    "    shuffle: true\n",
    "  }\n",
    "}\n",
    "\n",
    "\n",
    "layer {\n",
    "  name: \"data\"\n",
    "  type: \"ImageData\"\n",
    "  top: \"data\"\n",
    "  top: \"label\"\n",
    "  include {\n",
    "    phase: TEST\n",
    "  }\n",
    "  transform_param {\n",
    "    mirror: true\n",
    "    crop_size: 224\n",
    "    mean_value: 103.94\n",
    "    mean_value: 116.78\n",
    "    mean_value: 123.68\n",
    "    scale: 0.017\n",
    "  }\n",
    "  image_data_param {\n",
    "    source: \"C:/Users/an/Documents/study/counter/data/test.txt\"\n",
    "    root_folder: \"C:/Users/an/Documents/study/counter/\"\n",
    "    new_height: 224\n",
    "    new_width: 224\n",
    "    batch_size: 10\n",
    "    rand_skip: 100\n",
    "    shuffle: true\n",
    "  }\n",
    "}\n",
    "\n",
    "\n",
    "```\n",
    "\n",
    "- 把output 修改成\n",
    "\n"
   ]
  },
  {
   "cell_type": "markdown",
   "metadata": {},
   "source": [
    "### train your model "
   ]
  },
  {
   "cell_type": "code",
   "execution_count": null,
   "metadata": {},
   "outputs": [],
   "source": [
    "!caffe train -solver /xuan/counter/model/solver.prototxt -gpu 2 -weights /xuan/counter/model/ResNet-50-model.caffemodel    2>&1 | tee -a /xuan/counter/model/my_model.log \n",
    "    "
   ]
  },
  {
   "cell_type": "markdown",
   "metadata": {},
   "source": [
    "### 从log中绘制loss"
   ]
  },
  {
   "cell_type": "code",
   "execution_count": 4,
   "metadata": {},
   "outputs": [],
   "source": [
    "!python /opt/caffe/tools/extra/parse_log.py \\\n",
    "     /xuan/counter/model/my_model.log \\\n",
    "     /xuan/counter/model/"
   ]
  },
  {
   "cell_type": "markdown",
   "metadata": {},
   "source": [
    "### 可以看出20000步的model是最佳的"
   ]
  },
  {
   "cell_type": "code",
   "execution_count": null,
   "metadata": {},
   "outputs": [],
   "source": []
  }
 ],
 "metadata": {
  "kernelspec": {
   "display_name": "Python 2",
   "language": "python",
   "name": "python2"
  },
  "language_info": {
   "codemirror_mode": {
    "name": "ipython",
    "version": 2
   },
   "file_extension": ".py",
   "mimetype": "text/x-python",
   "name": "python",
   "nbconvert_exporter": "python",
   "pygments_lexer": "ipython2",
   "version": "2.7.15"
  }
 },
 "nbformat": 4,
 "nbformat_minor": 2
}
