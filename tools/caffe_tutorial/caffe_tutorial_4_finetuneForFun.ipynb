{
 "cells": [
  {
   "cell_type": "code",
   "execution_count": 1,
   "metadata": {},
   "outputs": [],
   "source": [
    "# 生成 0 - 4 的数据集合"
   ]
  },
  {
   "cell_type": "code",
   "execution_count": 3,
   "metadata": {},
   "outputs": [],
   "source": [
    "import pandas as pd\n",
    "\n",
    "label = pd.read_csv(\"./mnist/train/labels.txt\",header = None)\n",
    "label[:5].to_csv(\"./mnist/train/labels4.txt\",index = False,header = None)\n",
    "train = pd.read_csv(\"./mnist/train/train.txt\",header = None,sep = ' ')\n",
    "train[train.iloc[:,1].isin([0,1,2,3,4])].to_csv(\"./mnist/train/train4.txt\",index = False,header = None,sep = ' ')\n",
    "\n",
    "\n",
    "label = pd.read_csv(\"./mnist/test/labels.txt\",header = None)\n",
    "label[:5].to_csv(\"./mnist/test/labels4.txt\",index = False,header = None)\n",
    "test = pd.read_csv(\"./mnist/test/test.txt\",header = None,sep = ' ')\n",
    "test[test.iloc[:,1].isin([0,1,2,3,4])].to_csv(\"./mnist/test/test4.txt\",index = False,header = None, sep = ' ')\n",
    "\n"
   ]
  },
  {
   "cell_type": "code",
   "execution_count": 25,
   "metadata": {},
   "outputs": [],
   "source": [
    "# 生成 5 类的prototxt"
   ]
  },
  {
   "cell_type": "markdown",
   "metadata": {},
   "source": [
    "\n",
    "#### 编写一个函数，生成配置文件prototxt\n",
    "#### 注意可以为每一层添加name 信息\n",
    "#### 在fine - tune 时很重要 ， 一定需要把最后几层的name 改了 \n",
    "#### 因为 caffe 会 默认把 名字相同的 layer的值从 caffemodel 中复制过来， 如果只是改参数而不改名，复制过程就会报错\n"
   ]
  },
  {
   "cell_type": "code",
   "execution_count": null,
   "metadata": {},
   "outputs": [],
   "source": [
    "import caffe\n",
    "from caffe import layers as L,params as P,proto,to_proto\n",
    "\n",
    "#设定文件的保存路径\n",
    "root='C:/Users/an/Documents/study/caffe_tutorial/caffe_tutorial/'                           #根目录\n",
    "train_list=root+'mnist/train/train4.txt'     #训练图片列表\n",
    "test_list=root+'mnist/test/test4.txt'        #测试图片列表\n",
    "train_proto=root+'mnist/train4.prototxt'     #训练配置文件\n",
    "test_proto=root+'mnist/test4.prototxt'       #测试配置文件\n",
    "solver_proto=root+'mnist/solver4.prototxt'   #参数文件\n",
    "\n",
    "def Lenet(img_list,batch_size,include_acc=False):\n",
    "    #第一层，数据输入层，以ImageData格式输入\n",
    "    data, label = L.ImageData(source=img_list, batch_size=batch_size, ntop=2,root_folder=root,\n",
    "        transform_param=dict(scale= 0.00390625))\n",
    "    #第二层：卷积层\n",
    "    conv1=L.Convolution(data, kernel_size=5, stride=1,num_output=20, pad=0,weight_filler=dict(type='xavier'))\n",
    "    #池化层\n",
    "    pool1=L.Pooling(conv1, pool=P.Pooling.MAX, kernel_size=2, stride=2)\n",
    "    #卷积层\n",
    "    conv2=L.Convolution(pool1, kernel_size=5, stride=1,num_output=50, pad=0,weight_filler=dict(type='xavier'))\n",
    "    #池化层\n",
    "    pool2=L.Pooling(conv2, pool=P.Pooling.MAX, kernel_size=2, stride=2)\n",
    "    #全连接层\n",
    "    fc3=L.InnerProduct(pool2, num_output=500,weight_filler=dict(type='xavier'))\n",
    "    #激活函数层\n",
    "    relu3=L.ReLU(fc3, in_place=True)\n",
    "    #全连接层\n",
    "    fc4 = L.InnerProduct(relu3, num_output=4,weight_filler=dict(type='xavier'),name = 'fc4')\n",
    "    #softmax层\n",
    "    loss = L.SoftmaxWithLoss(fc4, label , name = 'loss')\n",
    "    \n",
    "    if include_acc:             # test阶段需要有accuracy层\n",
    "        acc = L.Accuracy(fc4, label , name = 'acc')\n",
    "        return to_proto(loss, acc)\n",
    "    else:\n",
    "        return to_proto(loss)\n",
    "    \n",
    "def write_net():\n",
    "    #写入train.prototxt\n",
    "    with open(train_proto, 'w') as f:\n",
    "        f.write(str(Lenet(train_list,batch_size=64)))\n",
    "\n",
    "    #写入test.prototxt    \n",
    "    with open(test_proto, 'w') as f:\n",
    "        f.write(str(Lenet(test_list,batch_size=100, include_acc=True)))\n",
    "def gen_solver(solver_file,train_net,test_net):\n",
    "    s=proto.caffe_pb2.SolverParameter()\n",
    "    s.train_net =train_net\n",
    "    s.test_net.append(test_net)\n",
    "    s.test_interval = 938    #60000/64，测试间隔参数：训练完一次所有的图片，进行一次测试  \n",
    "    s.test_iter.append(100)  #10000/100 测试迭代次数，需要迭代100次，才完成一次所有数据的测试\n",
    "    s.max_iter = 9380       #10 epochs , 938*10，最大训练次数\n",
    "    s.base_lr = 0.01    #基础学习率\n",
    "    s.momentum = 0.9    #动量\n",
    "    s.weight_decay = 5e-4  #权值衰减项\n",
    "    s.lr_policy = 'step'   #学习率变化规则\n",
    "    s.stepsize=3000         #学习率变化频率\n",
    "    s.gamma = 0.1          #学习率变化指数\n",
    "    s.display = 20         #屏幕显示间隔\n",
    "#     s.snapshot = 938       #保存caffemodel的间隔\n",
    "    s.snapshot = 2000\n",
    "    s.snapshot_prefix =root+'mnist/lenet'   #caffemodel前缀\n",
    "    s.type ='SGD'         #优化算法\n",
    "    s.solver_mode = proto.caffe_pb2.SolverParameter.GPU    #加速\n",
    "    #写入solver.prototxt\n",
    "    with open(solver_file, 'w') as f:\n",
    "        f.write(str(s))\n",
    "write_net()\n",
    "gen_solver(solver_proto,train_proto,test_proto) "
   ]
  },
  {
   "cell_type": "code",
   "execution_count": null,
   "metadata": {},
   "outputs": [],
   "source": [
    "# load pretrained model for train"
   ]
  },
  {
   "cell_type": "code",
   "execution_count": null,
   "metadata": {},
   "outputs": [],
   "source": [
    "import caffe   \n",
    "caffe.set_device(0)  \n",
    "caffe.set_mode_gpu()\n",
    "# solver = caffe.SGDSolver('C:/Users/an/Documents/study/caffe_tutorial/caffe_tutorial/mnist/solver4.prototxt')\n",
    "solver = caffe.get_solver(solver_proto)\n"
   ]
  },
  {
   "cell_type": "code",
   "execution_count": 2,
   "metadata": {},
   "outputs": [
    {
     "data": {
      "text/plain": [
       "'C:/Users/an/Documents/study/caffe_tutorial/caffe_tutorial/mnist/solver4.prototxt'"
      ]
     },
     "execution_count": 2,
     "metadata": {},
     "output_type": "execute_result"
    }
   ],
   "source": [
    "solver_proto"
   ]
  },
  {
   "cell_type": "code",
   "execution_count": null,
   "metadata": {},
   "outputs": [],
   "source": [
    "solver.net.copy_from(\"lenet_iter_8000.caffemodel\")"
   ]
  },
  {
   "cell_type": "code",
   "execution_count": null,
   "metadata": {},
   "outputs": [],
   "source": []
  }
 ],
 "metadata": {
  "kernelspec": {
   "display_name": "Python 2",
   "language": "python",
   "name": "python2"
  },
  "language_info": {
   "codemirror_mode": {
    "name": "ipython",
    "version": 2
   },
   "file_extension": ".py",
   "mimetype": "text/x-python",
   "name": "python",
   "nbconvert_exporter": "python",
   "pygments_lexer": "ipython2",
   "version": "2.7.15"
  }
 },
 "nbformat": 4,
 "nbformat_minor": 2
}
