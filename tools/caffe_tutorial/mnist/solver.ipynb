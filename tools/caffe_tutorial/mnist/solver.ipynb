{
 "cells": [
  {
   "cell_type": "markdown",
   "metadata": {},
   "source": [
    "# 使用python 控制solver的流程"
   ]
  },
  {
   "cell_type": "markdown",
   "metadata": {},
   "source": [
    "```\n",
    "import matplotlib.pyplot as plt  \n",
    "import caffe   \n",
    "caffe.set_device(0)  \n",
    "caffe.set_mode_gpu()   \n",
    "# 使用SGDSolver，即随机梯度下降算法  \n",
    "solver = caffe.SGDSolver('/home/xxx/mnist/solver.prototxt')  \n",
    "  \n",
    "# 等价于solver文件中的max_iter，即最大解算次数  \n",
    "niter = 9380  \n",
    "# 每隔100次收集一次数据  \n",
    "display= 100  \n",
    "  \n",
    "# 每次测试进行100次解算，10000/100  \n",
    "test_iter = 100  \n",
    "# 每500次训练进行一次测试（100次解算），60000/64  \n",
    "test_interval =938  \n",
    "  \n",
    "#初始化 \n",
    "train_loss = zeros(ceil(niter * 1.0 / display))   \n",
    "test_loss = zeros(ceil(niter * 1.0 / test_interval))  \n",
    "test_acc = zeros(ceil(niter * 1.0 / test_interval))  \n",
    "  \n",
    "# iteration 0，不计入  \n",
    "solver.step(1)  \n",
    "  \n",
    "# 辅助变量  \n",
    "_train_loss = 0; _test_loss = 0; _accuracy = 0  \n",
    "# 进行解算  \n",
    "for it in range(niter):  \n",
    "    # 进行一次解算  \n",
    "    solver.step(1)  \n",
    "    # 每迭代一次，训练batch_size张图片  \n",
    "    _train_loss += solver.net.blobs['SoftmaxWithLoss1'].data  \n",
    "    if it % display == 0:  \n",
    "        # 计算平均train loss  \n",
    "        train_loss[it // display] = _train_loss / display  \n",
    "        _train_loss = 0  \n",
    "  \n",
    "    if it % test_interval == 0:  \n",
    "        for test_it in range(test_iter):  \n",
    "            # 进行一次测试  \n",
    "            solver.test_nets[0].forward()  \n",
    "            # 计算test loss  \n",
    "            _test_loss += solver.test_nets[0].blobs['SoftmaxWithLoss1'].data  \n",
    "            # 计算test accuracy  \n",
    "            _accuracy += solver.test_nets[0].blobs['Accuracy1'].data  \n",
    "        # 计算平均test loss  \n",
    "        test_loss[it / test_interval] = _test_loss / test_iter  \n",
    "        # 计算平均test accuracy  \n",
    "        test_acc[it / test_interval] = _accuracy / test_iter  \n",
    "        _test_loss = 0  \n",
    "        _accuracy = 0  \n",
    "        \n",
    "# 绘制train loss、test loss和accuracy曲线  \n",
    "print '\\nplot the train loss and test accuracy\\n'  \n",
    "_, ax1 = plt.subplots()  \n",
    "ax2 = ax1.twinx()  \n",
    "  \n",
    "# train loss -> 绿色  \n",
    "ax1.plot(display * arange(len(train_loss)), train_loss, 'g')  \n",
    "# test loss -> 黄色  \n",
    "ax1.plot(test_interval * arange(len(test_loss)), test_loss, 'y')  \n",
    "# test accuracy -> 红色  \n",
    "ax2.plot(test_interval * arange(len(test_acc)), test_acc, 'r')  \n",
    "  \n",
    "ax1.set_xlabel('iteration')  \n",
    "ax1.set_ylabel('loss')  \n",
    "ax2.set_ylabel('accuracy')  \n",
    "plt.show()  \n",
    "```"
   ]
  },
  {
   "cell_type": "code",
   "execution_count": null,
   "metadata": {},
   "outputs": [],
   "source": []
  },
  {
   "cell_type": "markdown",
   "metadata": {},
   "source": [
    "# 预先读入 solver.prototxt"
   ]
  },
  {
   "cell_type": "code",
   "execution_count": 40,
   "metadata": {},
   "outputs": [
    {
     "data": {
      "text/plain": [
       "<caffe._caffe.SGDSolver at 0x1d3464f8>"
      ]
     },
     "execution_count": 40,
     "metadata": {},
     "output_type": "execute_result"
    }
   ],
   "source": [
    "import matplotlib.pyplot as plt  \n",
    "import caffe   \n",
    "caffe.set_device(0)  \n",
    "caffe.set_mode_gpu()   \n",
    "solver = r\"C:\\Users\\an\\Documents\\study\\caffe_tutorial\\mnist\\mnist\\solver.prototxt\"\n",
    "solver = caffe.SGDSolver(solver)  \n",
    "solver"
   ]
  },
  {
   "cell_type": "code",
   "execution_count": 41,
   "metadata": {},
   "outputs": [
    {
     "data": {
      "text/plain": [
       "(64L, 3L, 28L, 28L)"
      ]
     },
     "execution_count": 41,
     "metadata": {},
     "output_type": "execute_result"
    }
   ],
   "source": [
    "solver.net.blobs['ImageData1'].data.shape\n",
    "# 初始所有的blobs里头的值都是没有的\n"
   ]
  },
  {
   "cell_type": "markdown",
   "metadata": {},
   "source": [
    "# solver 是可以一步一步跑的\n"
   ]
  },
  {
   "cell_type": "code",
   "execution_count": 42,
   "metadata": {},
   "outputs": [
    {
     "data": {
      "text/plain": [
       "((64L, 3L, 28L, 28L), (64L,))"
      ]
     },
     "execution_count": 42,
     "metadata": {},
     "output_type": "execute_result"
    }
   ],
   "source": [
    "# iteration 0，不计入  \n",
    "solver.step(1)  \n",
    "solver.net.blobs['ImageData1'].data.shape,solver.net.blobs['ImageData2'].data.shape"
   ]
  },
  {
   "cell_type": "markdown",
   "metadata": {},
   "source": [
    "# solver 中还有 test_net"
   ]
  },
  {
   "cell_type": "code",
   "execution_count": 43,
   "metadata": {},
   "outputs": [
    {
     "data": {
      "text/plain": [
       "(100L, 3L, 28L, 28L)"
      ]
     },
     "execution_count": 43,
     "metadata": {},
     "output_type": "execute_result"
    }
   ],
   "source": [
    "solver.test_nets[0].blobs['ImageData1'].data.shape\n",
    "# 对于solver中存在的参数，可以手动进行forward()"
   ]
  },
  {
   "cell_type": "code",
   "execution_count": null,
   "metadata": {},
   "outputs": [],
   "source": []
  },
  {
   "cell_type": "code",
   "execution_count": 52,
   "metadata": {},
   "outputs": [
    {
     "data": {
      "image/png": "[encoded data removed]",
      "text/plain": [
       "<Figure size 432x288 with 1 Axes>"
      ]
     },
     "metadata": {},
     "output_type": "display_data"
    }
   ],
   "source": [
    "import numpy as np\n",
    "import matplotlib.pyplot as plt\n",
    "fig = plt.figure()\n",
    "img = fig.add_subplot(111)\n",
    "img.plot(np.random.rand(36),'green')\n",
    "\n",
    "plt.show()"
   ]
  },
  {
   "cell_type": "code",
   "execution_count": 53,
   "metadata": {},
   "outputs": [],
   "source": [
    "import matplotlib.animation as antt"
   ]
  },
  {
   "cell_type": "markdown",
   "metadata": {},
   "source": [
    "# solver"
   ]
  },
  {
   "cell_type": "code",
   "execution_count": 7,
   "metadata": {},
   "outputs": [
    {
     "ename": "KeyboardInterrupt",
     "evalue": "",
     "output_type": "error",
     "traceback": [
      "\u001b[1;31m---------------------------------------------------------------------------\u001b[0m",
      "\u001b[1;31mKeyboardInterrupt\u001b[0m                         Traceback (most recent call last)",
      "\u001b[1;32m<ipython-input-7-ce8e5ce81fff>\u001b[0m in \u001b[0;36m<module>\u001b[1;34m()\u001b[0m\n\u001b[0;32m     33\u001b[0m     \u001b[0msolver\u001b[0m\u001b[1;33m.\u001b[0m\u001b[0mstep\u001b[0m\u001b[1;33m(\u001b[0m\u001b[1;36m1\u001b[0m\u001b[1;33m)\u001b[0m\u001b[1;33m\u001b[0m\u001b[0m\n\u001b[0;32m     34\u001b[0m     \u001b[1;31m# 每迭代一次，训练batch_size张图片\u001b[0m\u001b[1;33m\u001b[0m\u001b[1;33m\u001b[0m\u001b[0m\n\u001b[1;32m---> 35\u001b[1;33m     \u001b[0m_train_loss\u001b[0m \u001b[1;33m+=\u001b[0m \u001b[0msolver\u001b[0m\u001b[1;33m.\u001b[0m\u001b[0mnet\u001b[0m\u001b[1;33m.\u001b[0m\u001b[0mblobs\u001b[0m\u001b[1;33m[\u001b[0m\u001b[1;34m'SoftmaxWithLoss1'\u001b[0m\u001b[1;33m]\u001b[0m\u001b[1;33m.\u001b[0m\u001b[0mdata\u001b[0m\u001b[1;33m\u001b[0m\u001b[0m\n\u001b[0m\u001b[0;32m     36\u001b[0m     \u001b[1;32mif\u001b[0m \u001b[0mit\u001b[0m \u001b[1;33m%\u001b[0m \u001b[0mdisplay\u001b[0m \u001b[1;33m==\u001b[0m \u001b[1;36m0\u001b[0m\u001b[1;33m:\u001b[0m\u001b[1;33m\u001b[0m\u001b[0m\n\u001b[0;32m     37\u001b[0m         \u001b[1;31m# 计算平均train loss\u001b[0m\u001b[1;33m\u001b[0m\u001b[1;33m\u001b[0m\u001b[0m\n",
      "\u001b[1;32mC:\\ProgramData\\Anaconda2\\lib\\site-packages\\caffe\\pycaffe.pyc\u001b[0m in \u001b[0;36m_Net_blobs\u001b[1;34m(self)\u001b[0m\n\u001b[0;32m     29\u001b[0m     \"\"\"\n\u001b[0;32m     30\u001b[0m     \u001b[1;32mif\u001b[0m \u001b[1;32mnot\u001b[0m \u001b[0mhasattr\u001b[0m\u001b[1;33m(\u001b[0m\u001b[0mself\u001b[0m\u001b[1;33m,\u001b[0m \u001b[1;34m'_blobs_dict'\u001b[0m\u001b[1;33m)\u001b[0m\u001b[1;33m:\u001b[0m\u001b[1;33m\u001b[0m\u001b[0m\n\u001b[1;32m---> 31\u001b[1;33m         \u001b[0mself\u001b[0m\u001b[1;33m.\u001b[0m\u001b[0m_blobs_dict\u001b[0m \u001b[1;33m=\u001b[0m \u001b[0mOrderedDict\u001b[0m\u001b[1;33m(\u001b[0m\u001b[0mzip\u001b[0m\u001b[1;33m(\u001b[0m\u001b[0mself\u001b[0m\u001b[1;33m.\u001b[0m\u001b[0m_blob_names\u001b[0m\u001b[1;33m,\u001b[0m \u001b[0mself\u001b[0m\u001b[1;33m.\u001b[0m\u001b[0m_blobs\u001b[0m\u001b[1;33m)\u001b[0m\u001b[1;33m)\u001b[0m\u001b[1;33m\u001b[0m\u001b[0m\n\u001b[0m\u001b[0;32m     32\u001b[0m     \u001b[1;32mreturn\u001b[0m \u001b[0mself\u001b[0m\u001b[1;33m.\u001b[0m\u001b[0m_blobs_dict\u001b[0m\u001b[1;33m\u001b[0m\u001b[0m\n\u001b[0;32m     33\u001b[0m \u001b[1;33m\u001b[0m\u001b[0m\n",
      "\u001b[1;32mC:\\ProgramData\\Anaconda2\\lib\\collections.pyc\u001b[0m in \u001b[0;36m__init__\u001b[1;34m(*args, **kwds)\u001b[0m\n\u001b[0;32m     67\u001b[0m             \u001b[0mroot\u001b[0m\u001b[1;33m[\u001b[0m\u001b[1;33m:\u001b[0m\u001b[1;33m]\u001b[0m \u001b[1;33m=\u001b[0m \u001b[1;33m[\u001b[0m\u001b[0mroot\u001b[0m\u001b[1;33m,\u001b[0m \u001b[0mroot\u001b[0m\u001b[1;33m,\u001b[0m \u001b[0mNone\u001b[0m\u001b[1;33m]\u001b[0m\u001b[1;33m\u001b[0m\u001b[0m\n\u001b[0;32m     68\u001b[0m             \u001b[0mself\u001b[0m\u001b[1;33m.\u001b[0m\u001b[0m__map\u001b[0m \u001b[1;33m=\u001b[0m \u001b[1;33m{\u001b[0m\u001b[1;33m}\u001b[0m\u001b[1;33m\u001b[0m\u001b[0m\n\u001b[1;32m---> 69\u001b[1;33m         \u001b[0mself\u001b[0m\u001b[1;33m.\u001b[0m\u001b[0m__update\u001b[0m\u001b[1;33m(\u001b[0m\u001b[1;33m*\u001b[0m\u001b[0margs\u001b[0m\u001b[1;33m,\u001b[0m \u001b[1;33m**\u001b[0m\u001b[0mkwds\u001b[0m\u001b[1;33m)\u001b[0m\u001b[1;33m\u001b[0m\u001b[0m\n\u001b[0m\u001b[0;32m     70\u001b[0m \u001b[1;33m\u001b[0m\u001b[0m\n\u001b[0;32m     71\u001b[0m     \u001b[1;32mdef\u001b[0m \u001b[0m__setitem__\u001b[0m\u001b[1;33m(\u001b[0m\u001b[0mself\u001b[0m\u001b[1;33m,\u001b[0m \u001b[0mkey\u001b[0m\u001b[1;33m,\u001b[0m \u001b[0mvalue\u001b[0m\u001b[1;33m,\u001b[0m \u001b[0mdict_setitem\u001b[0m\u001b[1;33m=\u001b[0m\u001b[0mdict\u001b[0m\u001b[1;33m.\u001b[0m\u001b[0m__setitem__\u001b[0m\u001b[1;33m)\u001b[0m\u001b[1;33m:\u001b[0m\u001b[1;33m\u001b[0m\u001b[0m\n",
      "\u001b[1;32mC:\\ProgramData\\Anaconda2\\lib\\_abcoll.pyc\u001b[0m in \u001b[0;36mupdate\u001b[1;34m(*args, **kwds)\u001b[0m\n\u001b[0;32m    570\u001b[0m             \u001b[1;32melse\u001b[0m\u001b[1;33m:\u001b[0m\u001b[1;33m\u001b[0m\u001b[0m\n\u001b[0;32m    571\u001b[0m                 \u001b[1;32mfor\u001b[0m \u001b[0mkey\u001b[0m\u001b[1;33m,\u001b[0m \u001b[0mvalue\u001b[0m \u001b[1;32min\u001b[0m \u001b[0mother\u001b[0m\u001b[1;33m:\u001b[0m\u001b[1;33m\u001b[0m\u001b[0m\n\u001b[1;32m--> 572\u001b[1;33m                     \u001b[0mself\u001b[0m\u001b[1;33m[\u001b[0m\u001b[0mkey\u001b[0m\u001b[1;33m]\u001b[0m \u001b[1;33m=\u001b[0m \u001b[0mvalue\u001b[0m\u001b[1;33m\u001b[0m\u001b[0m\n\u001b[0m\u001b[0;32m    573\u001b[0m         \u001b[1;32mfor\u001b[0m \u001b[0mkey\u001b[0m\u001b[1;33m,\u001b[0m \u001b[0mvalue\u001b[0m \u001b[1;32min\u001b[0m \u001b[0mkwds\u001b[0m\u001b[1;33m.\u001b[0m\u001b[0mitems\u001b[0m\u001b[1;33m(\u001b[0m\u001b[1;33m)\u001b[0m\u001b[1;33m:\u001b[0m\u001b[1;33m\u001b[0m\u001b[0m\n\u001b[0;32m    574\u001b[0m             \u001b[0mself\u001b[0m\u001b[1;33m[\u001b[0m\u001b[0mkey\u001b[0m\u001b[1;33m]\u001b[0m \u001b[1;33m=\u001b[0m \u001b[0mvalue\u001b[0m\u001b[1;33m\u001b[0m\u001b[0m\n",
      "\u001b[1;31mKeyboardInterrupt\u001b[0m: "
     ]
    }
   ],
   "source": [
    "import matplotlib.pyplot as plt  \n",
    "import numpy as np\n",
    "from numpy import zeros,ceil\n",
    "import caffe   \n",
    "caffe.set_device(0)  \n",
    "caffe.set_mode_gpu()   \n",
    "# 使用SGDSolver，即随机梯度下降算法  \n",
    "solver = caffe.SGDSolver(r'C:\\Users\\an\\Documents\\study\\caffe_tutorial\\mnist\\mnist\\solver.prototxt')  \n",
    "  \n",
    "# 等价于solver文件中的max_iter，即最大解算次数  \n",
    "niter = 9380  \n",
    "# 每隔100次收集一次数据  \n",
    "display= 100  \n",
    "  \n",
    "# 每次测试进行100次解算，10000/100  \n",
    "test_iter = 100  \n",
    "# 每500次训练进行一次测试（100次解算），60000/64  \n",
    "test_interval =938  \n",
    "  \n",
    "#初始化 \n",
    "train_loss = zeros(int(ceil(niter * 1.0 / display)))   \n",
    "test_loss = zeros(int(ceil(niter * 1.0 / test_interval)))\n",
    "test_acc = zeros(int(ceil(niter * 1.0 / test_interval)))\n",
    "  \n",
    "# iteration 0，不计入  \n",
    "solver.step(1)  \n",
    "  \n",
    "# 辅助变量  \n",
    "_train_loss = 0; _test_loss = 0; _accuracy = 0  \n",
    "# 进行解算  \n",
    "for it in range(niter):  \n",
    "    # 进行一次解算  \n",
    "    solver.step(1)  \n",
    "    # 每迭代一次，训练batch_size张图片  \n",
    "    _train_loss += solver.net.blobs['SoftmaxWithLoss1'].data  \n",
    "    if it % display == 0:  \n",
    "        # 计算平均train loss  \n",
    "        train_loss[it // display] = _train_loss / display  \n",
    "        _train_loss = 0  \n",
    "        \n",
    "    if it % test_interval == 0:  \n",
    "        for test_it in range(test_iter):  \n",
    "            # 进行一次测试  \n",
    "            solver.test_nets[0].forward()  \n",
    "            # 计算test loss  \n",
    "            _test_loss += solver.test_nets[0].blobs['SoftmaxWithLoss1'].data  \n",
    "            # 计算test accuracy  \n",
    "            _accuracy += solver.test_nets[0].blobs['Accuracy1'].data  \n",
    "        # 计算平均test loss  \n",
    "        test_loss[it / test_interval] = _test_loss / test_iter  \n",
    "        # 计算平均test accuracy  \n",
    "        test_acc[it / test_interval] = _accuracy / test_iter  \n",
    "        _test_loss = 0  \n",
    "        _accuracy = 0  \n",
    "        \n",
    "# # 绘制train loss、test loss和accuracy曲线  \n",
    "# print '\\nplot the train loss and test accuracy\\n'  \n",
    "# _, ax1 = plt.subplots()  \n",
    "# ax2 = ax1.twinx()  \n",
    "  \n",
    "# # train loss -> 绿色  \n",
    "# ax1.plot(display * arange(len(train_loss)), train_loss, 'g')  \n",
    "# # test loss -> 黄色  \n",
    "# ax1.plot(test_interval * arange(len(test_loss)), test_loss, 'y')  \n",
    "# # test accuracy -> 红色  \n",
    "# ax2.plot(test_interval * arange(len(test_acc)), test_acc, 'r')  \n",
    "  \n",
    "# ax1.set_xlabel('iteration')  \n",
    "# ax1.set_ylabel('loss')  \n",
    "# ax2.set_ylabel('accuracy')  \n",
    "# plt.show() "
   ]
  },
  {
   "cell_type": "code",
   "execution_count": null,
   "metadata": {},
   "outputs": [],
   "source": [
    "import matplotlib.pyplot as plt  \n",
    "import numpy as np\n",
    "from numpy import zeros,ceil\n",
    "import caffe  \n",
    "caffe.set_device(0)  \n",
    "caffe.set_mode_gpu()   \n",
    "# 使用SGDSolver，即随机梯度下降算法  \n",
    "solver = caffe.SGDSolver(r'C:\\Users\\an\\Documents\\study\\caffe_tutorial\\mnist\\mnist\\solver4.prototxt')  \n",
    "\n",
    "solver.net.copy_from(r'C:\\Users\\an\\Documents\\study\\caffe_tutorial\\mnist\\mnist\\lenet_iter_4000.caffemodel')"
   ]
  },
  {
   "cell_type": "code",
   "execution_count": 6,
   "metadata": {},
   "outputs": [],
   "source": [
    "solver.step(1)"
   ]
  },
  {
   "cell_type": "code",
   "execution_count": 12,
   "metadata": {},
   "outputs": [],
   "source": []
  },
  {
   "cell_type": "code",
   "execution_count": null,
   "metadata": {},
   "outputs": [],
   "source": []
  }
 ],
 "metadata": {
  "kernelspec": {
   "display_name": "Python 2",
   "language": "python",
   "name": "python2"
  },
  "language_info": {
   "codemirror_mode": {
    "name": "ipython",
    "version": 2
   },
   "file_extension": ".py",
   "mimetype": "text/x-python",
   "name": "python",
   "nbconvert_exporter": "python",
   "pygments_lexer": "ipython2",
   "version": "2.7.15"
  }
 },
 "nbformat": 4,
 "nbformat_minor": 2
}
